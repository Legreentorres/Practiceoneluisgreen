{
 "cells": [
  {
   "cell_type": "code",
   "execution_count": 51,
   "id": "b633d53f",
   "metadata": {},
   "outputs": [],
   "source": [
    "import numpy as np"
   ]
  },
  {
   "cell_type": "code",
   "execution_count": 52,
   "id": "d32da049",
   "metadata": {},
   "outputs": [
    {
     "data": {
      "text/plain": [
       "array([0., 0., 0., 0., 0., 0., 0., 0., 0., 0.])"
      ]
     },
     "execution_count": 52,
     "metadata": {},
     "output_type": "execute_result"
    }
   ],
   "source": [
    "##Create an array of 10 Zeros\n",
    "ZeroArray = np.zeros((10))\n",
    "ZeroArray"
   ]
  },
  {
   "cell_type": "code",
   "execution_count": 53,
   "id": "bba82938",
   "metadata": {},
   "outputs": [
    {
     "data": {
      "text/plain": [
       "array([1., 1., 1., 1., 1., 1., 1., 1., 1., 1.])"
      ]
     },
     "execution_count": 53,
     "metadata": {},
     "output_type": "execute_result"
    }
   ],
   "source": [
    " ##Create an array of 10 ones\n",
    "OneArray = np.ones(10)\n",
    "OneArray"
   ]
  },
  {
   "cell_type": "code",
   "execution_count": 54,
   "id": "84dc05ea",
   "metadata": {},
   "outputs": [
    {
     "data": {
      "text/plain": [
       "array([5., 5., 5., 5., 5., 5., 5., 5., 5., 5.])"
      ]
     },
     "execution_count": 54,
     "metadata": {},
     "output_type": "execute_result"
    }
   ],
   "source": [
    "##Create an array of 10 fives\n",
    "OneArray * 5\n"
   ]
  },
  {
   "cell_type": "code",
   "execution_count": 55,
   "id": "d5b59221",
   "metadata": {},
   "outputs": [
    {
     "data": {
      "text/plain": [
       "array([13, 47, 41, 29, 22, 22, 17, 34, 13, 17])"
      ]
     },
     "execution_count": 55,
     "metadata": {},
     "output_type": "execute_result"
    }
   ],
   "source": [
    "##Create an array of integers from 10-50\n",
    "IntArray = np.random.randint(10,50,10)\n",
    "IntArray"
   ]
  },
  {
   "cell_type": "code",
   "execution_count": 56,
   "id": "96e9d121",
   "metadata": {},
   "outputs": [
    {
     "data": {
      "text/plain": [
       "array([10, 12, 14, 16, 18, 20, 22, 24, 26, 28, 30, 32, 34, 36, 38, 40, 42,\n",
       "       44, 46, 48, 50])"
      ]
     },
     "execution_count": 56,
     "metadata": {},
     "output_type": "execute_result"
    }
   ],
   "source": [
    "##Creae an array of even intergers from 10-50\n",
    "EvenIntArray = np.arange(10,51,2)\n",
    "EvenIntArray"
   ]
  },
  {
   "cell_type": "code",
   "execution_count": 57,
   "id": "0c938c76",
   "metadata": {},
   "outputs": [
    {
     "data": {
      "text/plain": [
       "array([[0, 1, 2],\n",
       "       [3, 4, 5],\n",
       "       [6, 7, 8]])"
      ]
     },
     "execution_count": 57,
     "metadata": {},
     "output_type": "execute_result"
    }
   ],
   "source": [
    "##Create a 3x3 matrix values randing from 0-8\n",
    "ThreeArray = np.array([[0,1,2],[3,4,5],[6,7,8]])\n",
    "ThreeArray"
   ]
  },
  {
   "cell_type": "code",
   "execution_count": 58,
   "id": "95608dd3",
   "metadata": {},
   "outputs": [
    {
     "data": {
      "text/plain": [
       "array([0.08299023])"
      ]
     },
     "execution_count": 58,
     "metadata": {},
     "output_type": "execute_result"
    }
   ],
   "source": [
    "##Use NumPy to generate a random number between 0-1\n",
    "np.random.rand(1)"
   ]
  },
  {
   "cell_type": "code",
   "execution_count": 59,
   "id": "f6e4c824",
   "metadata": {},
   "outputs": [
    {
     "data": {
      "text/plain": [
       "array([[ 1,  2,  3,  4,  5],\n",
       "       [ 6,  7,  8,  9, 10],\n",
       "       [11, 12, 13, 14, 15],\n",
       "       [16, 17, 18, 19, 20],\n",
       "       [21, 22, 23, 24, 25]])"
      ]
     },
     "execution_count": 59,
     "metadata": {},
     "output_type": "execute_result"
    }
   ],
   "source": [
    "##Create a matrix using the following statements and display it\n",
    "mat = np.arange(1,26).reshape(5,5)\n",
    "mat"
   ]
  },
  {
   "cell_type": "code",
   "execution_count": 60,
   "id": "6be26b13",
   "metadata": {},
   "outputs": [
    {
     "data": {
      "text/plain": [
       "325"
      ]
     },
     "execution_count": 60,
     "metadata": {},
     "output_type": "execute_result"
    }
   ],
   "source": [
    "##Get the sum of all values in the mat matrix\n",
    "mat.sum()"
   ]
  },
  {
   "cell_type": "code",
   "execution_count": 61,
   "id": "7de5d440",
   "metadata": {},
   "outputs": [
    {
     "data": {
      "text/plain": [
       "7.211102550927978"
      ]
     },
     "execution_count": 61,
     "metadata": {},
     "output_type": "execute_result"
    }
   ],
   "source": [
    "##Get the standard deviation of the values in the mat matrix\n",
    "mat.std()"
   ]
  },
  {
   "cell_type": "code",
   "execution_count": 62,
   "id": "e3db353b",
   "metadata": {},
   "outputs": [
    {
     "data": {
      "text/plain": [
       "array([1., 1., 1., 1., 1., 1., 1., 1., 1., 1., 1., 1., 1., 1., 1., 1., 1.,\n",
       "       1., 1., 1., 1., 1., 1., 1., 1.])"
      ]
     },
     "execution_count": 62,
     "metadata": {},
     "output_type": "execute_result"
    }
   ],
   "source": [
    "##Create a new matrix of 25 ones named mat1\n",
    "mat1 = np.ones(25)\n",
    "mat1"
   ]
  },
  {
   "cell_type": "code",
   "execution_count": 63,
   "id": "69d9503d",
   "metadata": {},
   "outputs": [
    {
     "data": {
      "text/plain": [
       "array([ 1,  2,  3,  4,  5,  6,  7,  8,  9, 10, 11, 12, 13, 14, 15, 16, 17,\n",
       "       18, 19, 20, 21, 22, 23, 24, 25])"
      ]
     },
     "execution_count": 63,
     "metadata": {},
     "output_type": "execute_result"
    }
   ],
   "source": [
    "##Return mat to its original array\n",
    "mat = np.arange(1,26)\n",
    "mat"
   ]
  },
  {
   "cell_type": "code",
   "execution_count": 64,
   "id": "e6f9ea61",
   "metadata": {},
   "outputs": [
    {
     "data": {
      "text/plain": [
       "array([ 2.,  3.,  4.,  5.,  6.,  7.,  8.,  9., 10., 11., 12., 13., 14.,\n",
       "       15., 16., 17., 18., 19., 20., 21., 22., 23., 24., 25., 26.])"
      ]
     },
     "execution_count": 64,
     "metadata": {},
     "output_type": "execute_result"
    }
   ],
   "source": [
    "##Add Mat 1 by mat\n",
    "mat1 + mat"
   ]
  },
  {
   "cell_type": "code",
   "execution_count": 65,
   "id": "f54e1a9a",
   "metadata": {},
   "outputs": [
    {
     "data": {
      "text/plain": [
       "array([ 1.,  2.,  3.,  4.,  5.,  6.,  7.,  8.,  9., 10., 11., 12., 13.,\n",
       "       14., 15., 16., 17., 18., 19., 20., 21., 22., 23., 24., 25.])"
      ]
     },
     "execution_count": 65,
     "metadata": {},
     "output_type": "execute_result"
    }
   ],
   "source": [
    "##Multiply the values mat 1 by mat\n",
    "mat1 * mat"
   ]
  },
  {
   "cell_type": "code",
   "execution_count": null,
   "id": "2bda973e",
   "metadata": {},
   "outputs": [],
   "source": []
  }
 ],
 "metadata": {
  "kernelspec": {
   "display_name": "Python 3 (ipykernel)",
   "language": "python",
   "name": "python3"
  },
  "language_info": {
   "codemirror_mode": {
    "name": "ipython",
    "version": 3
   },
   "file_extension": ".py",
   "mimetype": "text/x-python",
   "name": "python",
   "nbconvert_exporter": "python",
   "pygments_lexer": "ipython3",
   "version": "3.9.7"
  }
 },
 "nbformat": 4,
 "nbformat_minor": 5
}
